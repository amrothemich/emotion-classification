{
  "cells": [
    {
      "cell_type": "code",
      "execution_count": 27,
      "metadata": {
        "id": "FPVCwkxkEQkS"
      },
      "outputs": [],
      "source": [
        "from IPython.display import clear_output\n",
        "# !pip install stanza\n",
        "# from google.colab import drive\n",
        "# drive.mount('/content/drive')\n",
        "\n",
        "import os\n",
        "\n",
        "import pandas as pd\n",
        "\n",
        "import torch\n",
        "from torchtext.legacy import data\n",
        "import torch.nn as nn\n",
        "import numpy as np\n",
        "\n",
        "clear_output()\n",
        "torch.manual_seed(42)\n",
        "torch.backends.cudnn.deterministic = True\n",
        "torch.backends.cudnn.benchmark = False"
      ]
    },
    {
      "cell_type": "code",
      "execution_count": 28,
      "metadata": {
        "colab": {
          "base_uri": "https://localhost:8080/",
          "height": 206
        },
        "id": "WM4bENkfEUYp",
        "outputId": "509193ef-eb73-4238-89b6-ac642ec60ba2"
      },
      "outputs": [
        {
          "data": {
            "text/html": [
              "<div>\n",
              "<style scoped>\n",
              "    .dataframe tbody tr th:only-of-type {\n",
              "        vertical-align: middle;\n",
              "    }\n",
              "\n",
              "    .dataframe tbody tr th {\n",
              "        vertical-align: top;\n",
              "    }\n",
              "\n",
              "    .dataframe thead th {\n",
              "        text-align: right;\n",
              "    }\n",
              "</style>\n",
              "<table border=\"1\" class=\"dataframe\">\n",
              "  <thead>\n",
              "    <tr style=\"text-align: right;\">\n",
              "      <th></th>\n",
              "      <th>prompt_text</th>\n",
              "      <th>label</th>\n",
              "    </tr>\n",
              "  </thead>\n",
              "  <tbody>\n",
              "    <tr>\n",
              "      <th>0</th>\n",
              "      <td>I remember going to the fireworks with my best...</td>\n",
              "      <td>28</td>\n",
              "    </tr>\n",
              "    <tr>\n",
              "      <th>1</th>\n",
              "      <td>i used to scare for darkness</td>\n",
              "      <td>0</td>\n",
              "    </tr>\n",
              "    <tr>\n",
              "      <th>2</th>\n",
              "      <td>I showed a guy how to run a good bead in weldi...</td>\n",
              "      <td>26</td>\n",
              "    </tr>\n",
              "    <tr>\n",
              "      <th>3</th>\n",
              "      <td>I have always been loyal to my wife.</td>\n",
              "      <td>15</td>\n",
              "    </tr>\n",
              "    <tr>\n",
              "      <th>4</th>\n",
              "      <td>A recent job interview that I had made me feel...</td>\n",
              "      <td>30</td>\n",
              "    </tr>\n",
              "  </tbody>\n",
              "</table>\n",
              "</div>"
            ],
            "text/plain": [
              "                                         prompt_text  label\n",
              "0  I remember going to the fireworks with my best...     28\n",
              "1                       i used to scare for darkness      0\n",
              "2  I showed a guy how to run a good bead in weldi...     26\n",
              "3               I have always been loyal to my wife.     15\n",
              "4  A recent job interview that I had made me feel...     30"
            ]
          },
          "execution_count": 28,
          "metadata": {},
          "output_type": "execute_result"
        }
      ],
      "source": [
        "base_path = os.path.abspath('..')\n",
        "project_path = os.path.join(base_path, 'emotion-classification')\n",
        "\n",
        "df = pd.read_csv(os.path.join(project_path, 'data/train.csv'), index_col=0)\n",
        "df = pd.concat([df, pd.read_csv(os.path.join(project_path, 'data/test.csv'), index_col=0)])\n",
        "\n",
        "# Only include utterances with more than 5 characters\n",
        "df = df[df['prompt'].str.len() > 5]\n",
        "df = df.reset_index(drop=True)\n",
        "\n",
        "# Add _text suffix\n",
        "df.rename({'prompt': 'prompt_text'}, axis=1, inplace=True)\n",
        "\n",
        "from sklearn.preprocessing import LabelEncoder\n",
        "label_encoder = LabelEncoder()\n",
        "df['label'] = label_encoder.fit_transform(df['label'])\n",
        "\n",
        "df.head()"
      ]
    },
    {
      "cell_type": "code",
      "execution_count": 29,
      "metadata": {
        "id": "i5iOyLY2EXKi"
      },
      "outputs": [],
      "source": [
        "from sklearn.model_selection import train_test_split\n",
        "train_df, test_df = train_test_split(df, random_state=42, test_size=0.2)\n",
        "train_df, val_df = train_test_split(train_df, random_state=42, test_size=0.2)"
      ]
    },
    {
      "cell_type": "code",
      "execution_count": 30,
      "metadata": {
        "id": "Ub1WdSrLEmoo"
      },
      "outputs": [],
      "source": [
        "TEXT = data.Field(tokenize = 'moses', include_lengths = True)\n",
        "LABEL = data.LabelField()"
      ]
    },
    {
      "cell_type": "code",
      "execution_count": 31,
      "metadata": {
        "id": "gua_f06oFp2Q"
      },
      "outputs": [],
      "source": [
        "class DataFrameDataset(data.Dataset):\n",
        "    def __init__(self, df, fields, is_test=False, **kwargs):\n",
        "        examples = []\n",
        "        for i, row in df.iterrows():\n",
        "            label = row.label if not is_test else None\n",
        "            text = row.prompt_text\n",
        "            examples.append(data.Example.fromlist([text, label], fields))\n",
        "\n",
        "        super().__init__(examples, fields, **kwargs)\n",
        "\n",
        "    @staticmethod\n",
        "    def sort_key(ex):\n",
        "        return len(ex.text)\n",
        "\n",
        "    @classmethod\n",
        "    def splits(cls, fields, train_df, val_df=None, test_df=None, **kwargs):\n",
        "        train_data, val_data, test_data = (None, None, None)\n",
        "        data_field = fields\n",
        "\n",
        "        if train_df is not None:\n",
        "            train_data = cls(train_df.copy(), data_field, **kwargs)\n",
        "        if val_df is not None:\n",
        "            val_data = cls(val_df.copy(), data_field, **kwargs)\n",
        "        if test_df is not None:\n",
        "            test_data = cls(test_df.copy(), data_field, True, **kwargs)\n",
        "\n",
        "        return tuple(d for d in (train_data, val_data, test_data) if d is not None)\n"
      ]
    },
    {
      "cell_type": "code",
      "execution_count": 32,
      "metadata": {
        "id": "4h7pNMFGHpZa"
      },
      "outputs": [],
      "source": [
        "fields = [('text',TEXT), ('label',LABEL)]\n",
        "\n",
        "train_ds, val_ds, test_ds = DataFrameDataset.splits(fields, train_df=train_df, val_df=val_df, test_df=test_df)"
      ]
    },
    {
      "cell_type": "code",
      "execution_count": 1,
      "metadata": {
        "colab": {
          "base_uri": "https://localhost:8080/"
        },
        "id": "99KWSDM3IBgs",
        "outputId": "132c83ee-0097-4727-9c12-99424b8ac328"
      },
      "outputs": [
        {
          "ename": "NameError",
          "evalue": "name 'TEXT' is not defined",
          "output_type": "error",
          "traceback": [
            "\u001b[0;31m---------------------------------------------------------------------------\u001b[0m",
            "\u001b[0;31mNameError\u001b[0m                                 Traceback (most recent call last)",
            "\u001b[0;32m/tmp/ipykernel_49825/3061810830.py\u001b[0m in \u001b[0;36m<module>\u001b[0;34m\u001b[0m\n\u001b[1;32m      1\u001b[0m \u001b[0mMAX_VOCAB_SIZE\u001b[0m \u001b[0;34m=\u001b[0m \u001b[0;36m25000\u001b[0m\u001b[0;34m\u001b[0m\u001b[0;34m\u001b[0m\u001b[0m\n\u001b[1;32m      2\u001b[0m \u001b[0;34m\u001b[0m\u001b[0m\n\u001b[0;32m----> 3\u001b[0;31m TEXT.build_vocab(train_ds, \n\u001b[0m\u001b[1;32m      4\u001b[0m                  \u001b[0mmax_size\u001b[0m \u001b[0;34m=\u001b[0m \u001b[0mMAX_VOCAB_SIZE\u001b[0m\u001b[0;34m,\u001b[0m\u001b[0;34m\u001b[0m\u001b[0;34m\u001b[0m\u001b[0m\n\u001b[1;32m      5\u001b[0m                  \u001b[0mvectors\u001b[0m \u001b[0;34m=\u001b[0m \u001b[0;34m'glove.6B.200d'\u001b[0m\u001b[0;34m,\u001b[0m\u001b[0;34m\u001b[0m\u001b[0;34m\u001b[0m\u001b[0m\n",
            "\u001b[0;31mNameError\u001b[0m: name 'TEXT' is not defined"
          ]
        }
      ],
      "source": [
        "MAX_VOCAB_SIZE = 25000\n",
        "\n",
        "# all possible embedding options:\n",
        "# fasttext.en.300d fasttext.simple.300d glove.42B.300d \n",
        "# glove.840B.300d glove.twitter.27B.25d glove.twitter.27B.50d \n",
        "# glove.twitter.27B.100d glove.twitter.27B.200d glove.6B.50d \n",
        "# glove.6B.100d glove.6B.200d glove.6B.300d\n",
        "TEXT.build_vocab(train_ds, \n",
        "                 max_size = MAX_VOCAB_SIZE, \n",
        "                 vectors = 'glove.6B.200d',\n",
        "                 unk_init = torch.Tensor.zero_)"
      ]
    },
    {
      "cell_type": "code",
      "execution_count": 34,
      "metadata": {
        "id": "GvOdHStbIcOF"
      },
      "outputs": [],
      "source": [
        "LABEL.build_vocab(train_ds)"
      ]
    },
    {
      "cell_type": "code",
      "execution_count": 35,
      "metadata": {
        "id": "qAec9Mt4IsS6"
      },
      "outputs": [],
      "source": [
        "BATCH_SIZE = 128\n",
        "\n",
        "device = torch.device('cuda' if torch.cuda.is_available() else 'cpu')\n",
        "\n",
        "train_iterator, valid_iterator = data.BucketIterator.splits(\n",
        "    (train_ds, val_ds), \n",
        "    batch_size = BATCH_SIZE,\n",
        "    sort_within_batch = True,\n",
        "    device = device)"
      ]
    },
    {
      "cell_type": "code",
      "execution_count": 36,
      "metadata": {
        "id": "USjozBkRIvOR"
      },
      "outputs": [],
      "source": [
        "# Hyperparameters\n",
        "num_epochs = 25\n",
        "learning_rate = 0.001\n",
        "\n",
        "INPUT_DIM = len(TEXT.vocab)\n",
        "EMBEDDING_DIM = 200\n",
        "HIDDEN_DIM = 512\n",
        "OUTPUT_DIM = len(df['label'].unique())\n",
        "N_LAYERS = 2\n",
        "BIDIRECTIONAL = True\n",
        "DROPOUT = 0.2\n",
        "PAD_IDX = TEXT.vocab.stoi[TEXT.pad_token] # padding"
      ]
    },
    {
      "cell_type": "code",
      "execution_count": 37,
      "metadata": {
        "id": "1hRlrHy8Ixxk"
      },
      "outputs": [],
      "source": [
        "class LSTM_net(nn.Module):\n",
        "    def __init__(self, vocab_size, embedding_dim, hidden_dim, output_dim, n_layers, \n",
        "                 bidirectional, dropout, pad_idx):\n",
        "        \n",
        "        super().__init__()\n",
        "        \n",
        "        self.embedding = nn.Embedding(vocab_size, embedding_dim, padding_idx = pad_idx)\n",
        "        \n",
        "        self.rnn = nn.LSTM(embedding_dim, \n",
        "                           hidden_dim, \n",
        "                           num_layers=n_layers, \n",
        "                           bidirectional=bidirectional, \n",
        "                           dropout=dropout)\n",
        "        \n",
        "        self.fc1 = nn.Linear(hidden_dim * 2, hidden_dim)\n",
        "        \n",
        "        self.fc2 = nn.Linear(hidden_dim, output_dim)\n",
        "        \n",
        "        self.dropout = nn.Dropout(dropout)\n",
        "        \n",
        "    def forward(self, text, text_lengths):\n",
        "        \n",
        "        # text dims: [sent len, batch size]\n",
        "        \n",
        "        embedded = self.embedding(text)\n",
        "        \n",
        "        # embedded dims:  [sent len, batch size, emb dim]\n",
        "        \n",
        "        #pack sequence\n",
        "        packed_embedded = nn.utils.rnn.pack_padded_sequence(embedded, text_lengths.cpu().int())\n",
        "        \n",
        "        packed_output, (hidden, cell) = self.rnn(packed_embedded)\n",
        "        \n",
        "        #unpack sequence\n",
        "        output, output_lengths = nn.utils.rnn.pad_packed_sequence(packed_output)\n",
        "\n",
        "        #output dims: [sent len, batch size, hid dim * num directions]\n",
        "        #output over padding tokens are zero tensors\n",
        "        \n",
        "        #hidden dims: [num layers * num directions, batch size, hid dim]\n",
        "        #cell dims: [num layers * num directions, batch size, hid dim]\n",
        "        \n",
        "        #concat the final forward (hidden[-2,:,:]) and backward (hidden[-1,:,:]) hidden layers\n",
        "        # these are the outputs from the last token\n",
        "        \n",
        "        hidden = self.dropout(torch.cat((hidden[-2,:,:], hidden[-1,:,:]), dim = 1))\n",
        "                \n",
        "        #hidden dims: [batch size, hid dim * num directions]\n",
        "            \n",
        "        hidden = self.fc1(hidden)\n",
        "        hidden = self.dropout(hidden)\n",
        "        return self.fc2(hidden)\n"
      ]
    },
    {
      "cell_type": "code",
      "execution_count": 38,
      "metadata": {
        "id": "80xhKVflI00M"
      },
      "outputs": [],
      "source": [
        "model = LSTM_net(INPUT_DIM, \n",
        "            EMBEDDING_DIM, \n",
        "            HIDDEN_DIM, \n",
        "            OUTPUT_DIM, \n",
        "            N_LAYERS, \n",
        "            BIDIRECTIONAL, \n",
        "            DROPOUT, \n",
        "            PAD_IDX)"
      ]
    },
    {
      "cell_type": "code",
      "execution_count": 39,
      "metadata": {
        "colab": {
          "base_uri": "https://localhost:8080/"
        },
        "id": "fjxVdprPJotO",
        "outputId": "db31ba6c-ac7c-4e52-ebb7-46c535c40032"
      },
      "outputs": [
        {
          "data": {
            "text/plain": [
              "tensor([[ 0.0000,  0.0000,  0.0000,  ...,  0.0000,  0.0000,  0.0000],\n",
              "        [ 0.0000,  0.0000,  0.0000,  ...,  0.0000,  0.0000,  0.0000],\n",
              "        [ 0.0000,  0.0000,  0.0000,  ...,  0.0000,  0.0000,  0.0000],\n",
              "        ...,\n",
              "        [ 0.0198,  0.5900, -0.2751,  ...,  0.2233,  0.3754,  0.4478],\n",
              "        [ 0.2535,  0.5517,  0.0076,  ...,  0.4661,  0.1691,  0.2835],\n",
              "        [ 0.0623, -0.7013, -0.4708,  ...,  0.5110, -0.2204, -0.1306]])"
            ]
          },
          "execution_count": 39,
          "metadata": {},
          "output_type": "execute_result"
        }
      ],
      "source": [
        "pretrained_embeddings = TEXT.vocab.vectors\n",
        "model.embedding.weight.data.copy_(pretrained_embeddings)"
      ]
    },
    {
      "cell_type": "code",
      "execution_count": 40,
      "metadata": {
        "colab": {
          "base_uri": "https://localhost:8080/"
        },
        "id": "XcTELvSdJpiI",
        "outputId": "05dd7fe2-4577-4364-c3cf-72ab92cfc85e"
      },
      "outputs": [],
      "source": [
        "#  to initiaise padded to zeros\n",
        "model.embedding.weight.data[PAD_IDX] = torch.zeros(EMBEDDING_DIM)\n",
        "\n",
        "# print(model.embedding.weight.data[0])"
      ]
    },
    {
      "cell_type": "code",
      "execution_count": 41,
      "metadata": {
        "id": "lH6kbtYOJsN3"
      },
      "outputs": [],
      "source": [
        "model.to(device) #CNN to GPU\n",
        "\n",
        "\n",
        "# Loss and optimizer\n",
        "criterion = nn.CrossEntropyLoss()\n",
        "\n",
        "optimizer = torch.optim.Adam(model.parameters(), lr=learning_rate)"
      ]
    },
    {
      "cell_type": "code",
      "execution_count": 42,
      "metadata": {
        "id": "1WlflMzPJ7hX"
      },
      "outputs": [],
      "source": [
        "from sklearn.metrics import f1_score\n",
        "# training function \n",
        "def train(model, iterator):\n",
        "    \n",
        "    epoch_loss = 0\n",
        "    epoch_acc = 0\n",
        "    \n",
        "    model.train()\n",
        "    \n",
        "    for batch in iterator:\n",
        "        text, text_lengths = batch.text\n",
        "        \n",
        "        optimizer.zero_grad()\n",
        "        predictions = model(text, text_lengths.int()).squeeze(1)\n",
        "        # print(predictions.shape)\n",
        "        loss = criterion(predictions, batch.label)\n",
        "\n",
        "        loss.backward()\n",
        "        optimizer.step()\n",
        "        preds = torch.argmax(predictions, 1).cpu()\n",
        "        acc = f1_score(preds, batch.label.cpu(), average='macro')\n",
        "        \n",
        "        epoch_loss += loss.item()\n",
        "        epoch_acc += acc.item()\n",
        "        \n",
        "\n",
        "    return epoch_loss / len(iterator), epoch_acc / len(iterator)\n"
      ]
    },
    {
      "cell_type": "code",
      "execution_count": 43,
      "metadata": {
        "id": "xou6Yr4bKPVj"
      },
      "outputs": [],
      "source": [
        "def evaluate(model, iterator):\n",
        "    \n",
        "    epoch_acc = 0\n",
        "    model.eval()\n",
        "    \n",
        "    with torch.no_grad():\n",
        "        for batch in iterator:\n",
        "            text, text_lengths = batch.text\n",
        "            predictions = model(text, text_lengths.cpu().int()).squeeze(1)\n",
        "            preds = torch.argmax(predictions, 1).cpu()\n",
        "            acc = f1_score(preds, batch.label.cpu(), average='macro')\n",
        "            \n",
        "            epoch_acc += acc.item()\n",
        "        \n",
        "    return epoch_acc / len(iterator)"
      ]
    },
    {
      "cell_type": "code",
      "execution_count": 44,
      "metadata": {
        "colab": {
          "base_uri": "https://localhost:8080/",
          "height": 502
        },
        "id": "3-213Rx3KYLr",
        "outputId": "de076c2d-0d5e-4555-c171-d1444f4f6524"
      },
      "outputs": [
        {
          "name": "stdout",
          "output_type": "stream",
          "text": [
            "\tTrain Loss: 2.955 | Train Acc: 10.09%\n",
            "\t Val. Acc: 22.86%\n",
            "\tTrain Loss: 2.156 | Train Acc: 28.72%\n",
            "\t Val. Acc: 32.14%\n",
            "\tTrain Loss: 1.756 | Train Acc: 39.75%\n",
            "\t Val. Acc: 38.04%\n",
            "\tTrain Loss: 1.475 | Train Acc: 47.39%\n",
            "\t Val. Acc: 40.91%\n",
            "\tTrain Loss: 1.226 | Train Acc: 54.22%\n",
            "\t Val. Acc: 40.86%\n",
            "\tTrain Loss: 1.032 | Train Acc: 61.14%\n",
            "\t Val. Acc: 39.98%\n",
            "\tTrain Loss: 0.861 | Train Acc: 66.71%\n",
            "\t Val. Acc: 41.31%\n",
            "\tTrain Loss: 0.689 | Train Acc: 72.76%\n",
            "\t Val. Acc: 39.90%\n",
            "\tTrain Loss: 0.540 | Train Acc: 78.26%\n",
            "\t Val. Acc: 40.28%\n",
            "\tTrain Loss: 0.438 | Train Acc: 82.10%\n",
            "\t Val. Acc: 39.60%\n",
            "\tTrain Loss: 0.321 | Train Acc: 86.54%\n",
            "\t Val. Acc: 38.06%\n",
            "\tTrain Loss: 0.252 | Train Acc: 89.91%\n",
            "\t Val. Acc: 39.17%\n",
            "\tTrain Loss: 0.217 | Train Acc: 91.13%\n",
            "\t Val. Acc: 39.41%\n",
            "\tTrain Loss: 0.156 | Train Acc: 93.47%\n",
            "\t Val. Acc: 39.77%\n",
            "\tTrain Loss: 0.138 | Train Acc: 94.38%\n",
            "\t Val. Acc: 38.30%\n",
            "\tTrain Loss: 0.113 | Train Acc: 95.45%\n",
            "\t Val. Acc: 38.57%\n",
            "\tTrain Loss: 0.105 | Train Acc: 95.74%\n",
            "\t Val. Acc: 38.34%\n",
            "\tTrain Loss: 0.087 | Train Acc: 96.66%\n",
            "\t Val. Acc: 37.75%\n",
            "\tTrain Loss: 0.105 | Train Acc: 96.00%\n",
            "\t Val. Acc: 39.31%\n",
            "\tTrain Loss: 0.077 | Train Acc: 97.05%\n",
            "\t Val. Acc: 39.17%\n",
            "\tTrain Loss: 0.068 | Train Acc: 97.52%\n",
            "\t Val. Acc: 38.98%\n",
            "\tTrain Loss: 0.064 | Train Acc: 97.54%\n",
            "\t Val. Acc: 38.99%\n",
            "\tTrain Loss: 0.055 | Train Acc: 98.09%\n",
            "\t Val. Acc: 39.41%\n",
            "\tTrain Loss: 0.061 | Train Acc: 97.77%\n",
            "\t Val. Acc: 39.31%\n"
          ]
        }
      ],
      "source": [
        "import time\n",
        "t = time.time()\n",
        "loss=[]\n",
        "acc=[]\n",
        "val_acc=[]\n",
        "\n",
        "for epoch in range(num_epochs):\n",
        "    \n",
        "    train_loss, train_acc = train(model, train_iterator)\n",
        "    valid_acc = evaluate(model, valid_iterator)\n",
        "    \n",
        "    print(f'\\tTrain Loss: {train_loss:.3f} | Train Acc: {train_acc*100:.2f}%')\n",
        "    print(f'\\t Val. Acc: {valid_acc*100:.2f}%')\n",
        "    \n",
        "    loss.append(train_loss)\n",
        "    acc.append(train_acc)\n",
        "    val_acc.append(valid_acc)\n",
        "    \n",
        "print(f'time:{time.time()-t:.3f}')"
      ]
    },
    {
      "cell_type": "code",
      "execution_count": null,
      "metadata": {
        "colab": {
          "base_uri": "https://localhost:8080/",
          "height": 312
        },
        "id": "2YXoqyc3KbTj",
        "outputId": "ac7d026e-9f49-4100-efcf-7db96a36ee26"
      },
      "outputs": [
        {
          "data": {
            "text/plain": [
              "<function matplotlib.pyplot.show>"
            ]
          },
          "execution_count": 45,
          "metadata": {},
          "output_type": "execute_result"
        },
        {
          "data": {
            "image/png": "[encoded data removed]",
            "text/plain": [
              "<Figure size 432x288 with 1 Axes>"
            ]
          },
          "metadata": {
            "needs_background": "light"
          },
          "output_type": "display_data"
        }
      ],
      "source": [
        "import matplotlib.pyplot as plt\n",
        "\n",
        "plt.xlabel(\"runs\")\n",
        "plt.ylabel(\"normalised measure of loss/accuracy\")\n",
        "x_len=list(range(len(acc)))\n",
        "plt.axis([0, max(x_len), 0, 1])\n",
        "plt.title('result of LSTM')\n",
        "plt.plot(x_len, loss, 'r.',label=\"loss\")\n",
        "plt.plot(x_len, acc, 'b.', label=\"accuracy\")\n",
        "plt.plot(x_len, val_acc, 'g.', label=\"val_accuracy\")\n",
        "plt.legend(bbox_to_anchor=(1.05, 1), loc=2, borderaxespad=0.2)\n",
        "plt.show"
      ]
    },
    {
      "cell_type": "markdown",
      "metadata": {
        "id": "y1NRF54rSd4t"
      },
      "source": [
        "## Transfer Learning with BERT "
      ]
    },
    {
      "cell_type": "code",
      "execution_count": null,
      "metadata": {
        "id": "Lzv23U2jOLd8"
      },
      "outputs": [],
      "source": []
    }
  ],
  "metadata": {
    "accelerator": "GPU",
    "colab": {
      "collapsed_sections": [],
      "name": "ProjF.ipynb",
      "provenance": []
    },
    "kernelspec": {
      "display_name": "Python 3",
      "name": "python3"
    },
    "language_info": {
      "codemirror_mode": {
        "name": "ipython",
        "version": 3
      },
      "file_extension": ".py",
      "mimetype": "text/x-python",
      "name": "python",
      "nbconvert_exporter": "python",
      "pygments_lexer": "ipython3",
      "version": "3.9.7"
    }
  },
  "nbformat": 4,
  "nbformat_minor": 0
}
